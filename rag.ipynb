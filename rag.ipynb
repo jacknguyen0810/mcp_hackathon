{
 "cells": [
  {
   "cell_type": "code",
   "execution_count": 1,
   "id": "c864a076",
   "metadata": {},
   "outputs": [],
   "source": [
    "from pathlib import Path\n",
    "\n",
    "from mcp import ClientSession, StdioServerParameters\n",
    "from mcp.client.sse import sse_client\n",
    "from mcp.client.stdio import stdio_client\n",
    "\n",
    "from autogen import LLMConfig\n",
    "from autogen.agentchat import AssistantAgent\n",
    "from autogen.mcp import create_toolkit\n",
    "import json\n",
    "import anyio\n",
    "import asyncio\n",
    "\n",
    "# Only needed for Jupyter notebooks\n",
    "import nest_asyncio\n",
    "nest_asyncio.apply()\n",
    "\n",
    "from autogen.agentchat.group import (\n",
    "    AgentNameTarget,\n",
    "    AgentTarget,\n",
    "    AskUserTarget,\n",
    "    ContextExpression,\n",
    "    ContextStr,\n",
    "    ContextStrLLMCondition,\n",
    "    ContextVariables,\n",
    "    ExpressionAvailableCondition,\n",
    "    ExpressionContextCondition,\n",
    "    GroupChatConfig,\n",
    "    GroupChatTarget,\n",
    "    Handoffs,\n",
    "    NestedChatTarget,\n",
    "    OnCondition,\n",
    "    OnContextCondition,\n",
    "    ReplyResult,\n",
    "    RevertToUserTarget,\n",
    "    SpeakerSelectionResult,\n",
    "    StayTarget,\n",
    "    StringAvailableCondition,\n",
    "    StringContextCondition,\n",
    "    StringLLMCondition,\n",
    "    TerminateTarget,\n",
    ")\n",
    "\n",
    "from autogen.agentchat.group.patterns import (\n",
    "    DefaultPattern,\n",
    "    ManualPattern,\n",
    "    AutoPattern,\n",
    "    RandomPattern,\n",
    "    RoundRobinPattern,\n",
    ")\n",
    "\n",
    "\n",
    "from autogen import ConversableAgent, UpdateSystemMessage\n",
    "from autogen.agents.experimental import DocAgent\n",
    "import os\n",
    "import copy\n",
    "from typing import Any, Dict, List\n",
    "from pydantic import BaseModel, Field\n",
    "\n",
    "\n",
    "from autogen.agentchat import initiate_group_chat, a_initiate_group_chat"
   ]
  },
  {
   "cell_type": "code",
   "execution_count": 2,
   "id": "e948aae4",
   "metadata": {},
   "outputs": [],
   "source": [
    "# Path to the arxiv MCP server\n",
    "mcp_server_path = Path(\"mcp_notion.py\")"
   ]
  },
  {
   "cell_type": "code",
   "execution_count": 3,
   "id": "be194302",
   "metadata": {},
   "outputs": [],
   "source": [
    "from google_auth_oauthlib.flow import InstalledAppFlow\n",
    "import json"
   ]
  },
  {
   "cell_type": "code",
   "execution_count": 4,
   "id": "7707b24e",
   "metadata": {},
   "outputs": [],
   "source": [
    "from dotenv import load_dotenv\n",
    "\n",
    "# Load environment variables from .env file\n",
    "load_dotenv()\n",
    "\n",
    "import os\n",
    "\n",
    "# Access tokens\n",
    "NOTION_TOKEN = os.getenv(\"NOTION_TOKEN\")\n",
    "OPENAI_API_KEY = os.getenv(\"OPENAI_API_KEY\")"
   ]
  },
  {
   "cell_type": "code",
   "execution_count": 5,
   "id": "9939b2b5",
   "metadata": {},
   "outputs": [],
   "source": [
    "from mcp_notion import NotionReader"
   ]
  },
  {
   "cell_type": "code",
   "execution_count": 6,
   "id": "b205ad2f",
   "metadata": {},
   "outputs": [],
   "source": [
    "# Set up the Notion MCP server\n",
    "notion_server_path = Path(\"mcp_notion.py\")"
   ]
  },
  {
   "cell_type": "code",
   "execution_count": 7,
   "id": "b2ebc9c3",
   "metadata": {},
   "outputs": [],
   "source": [
    "from mcp import ClientSession, StdioServerParameters\n",
    "from mcp.client.sse import sse_client\n",
    "from mcp.client.stdio import stdio_client\n"
   ]
  },
  {
   "cell_type": "code",
   "execution_count": 8,
   "id": "501d7d76",
   "metadata": {},
   "outputs": [],
   "source": [
    "PAGE_ID = \"160ab8e5212680239210c6501484cd90\""
   ]
  },
  {
   "cell_type": "code",
   "execution_count": 9,
   "id": "ce230b24",
   "metadata": {},
   "outputs": [],
   "source": [
    "async def read_notion_page():\n",
    "    \"\"\"Read content from a specific Notion page using the NotionReader.\"\"\"\n",
    "    try:\n",
    "        # Create a NotionReader instance\n",
    "        reader = NotionReader()\n",
    "        \n",
    "        print(f\"Reading Notion page with ID: {PAGE_ID}\")\n",
    "        \n",
    "        # Use the reader as a context manager to ensure proper cleanup\n",
    "        async with reader:\n",
    "            # Get page content\n",
    "            page = await reader.get_page(PAGE_ID)\n",
    "            \n",
    "            # Get page blocks\n",
    "            blocks_response = await reader.get_block_children(PAGE_ID)\n",
    "            blocks = blocks_response.get(\"results\", [])\n",
    "            \n",
    "            # Format the results for easier consumption\n",
    "            formatted_result = format_page_content(page, blocks)\n",
    "            \n",
    "            # Print a summary of what we found\n",
    "            print(f\"Page title: {formatted_result.get('title', 'Untitled')}\")\n",
    "            print(f\"Found {len(formatted_result.get('content', []))} content blocks\")\n",
    "            \n",
    "            # Save the full content to a JSON file for inspection\n",
    "            with open(\"notion_page_content.json\", \"w\") as f:\n",
    "                json.dump(formatted_result, f, indent=2)\n",
    "            print(\"Full content saved to notion_page_content.json\")\n",
    "            \n",
    "            # Also print the first few blocks\n",
    "            print(\"\\nPreview of content:\")\n",
    "            for i, block in enumerate(formatted_result.get('content', [])[:5]):  # First 5 blocks\n",
    "                block_text = block.get('text', '')[:100]  # First 100 chars\n",
    "                print(f\"{i+1}. [{block.get('type')}]: {block_text}...\" if len(block_text) > 100 else block_text)\n",
    "            \n",
    "            return formatted_result\n",
    "            \n",
    "    except Exception as e:\n",
    "        print(f\"Error reading Notion page: {str(e)}\")\n",
    "        raise\n"
   ]
  },
  {
   "cell_type": "code",
   "execution_count": 10,
   "id": "ebafedde",
   "metadata": {},
   "outputs": [],
   "source": [
    "def format_page_content(page, blocks):\n",
    "    \"\"\"Format page and blocks into a more user-friendly structure.\"\"\"\n",
    "    # Extract title if available\n",
    "    title = \"\"\n",
    "    for prop_name, prop_value in page.get(\"properties\", {}).items():\n",
    "        if prop_value.get(\"type\") == \"title\" and prop_value.get(\"title\"):\n",
    "            title = \"\".join([text.get(\"plain_text\", \"\") for text in prop_value.get(\"title\", [])])\n",
    "            break\n",
    "    \n",
    "    # Format blocks\n",
    "    formatted_blocks = []\n",
    "    for block in blocks:\n",
    "        block_type = block.get(\"type\")\n",
    "        \n",
    "        # Default structure for a formatted block\n",
    "        formatted_block = {\n",
    "            \"id\": block.get(\"id\"),\n",
    "            \"type\": block_type,\n",
    "            \"text\": \"\"\n",
    "        }\n",
    "        \n",
    "        # Extract text based on block type\n",
    "        if block_type in [\"paragraph\", \"heading_1\", \"heading_2\", \"heading_3\", \n",
    "                         \"bulleted_list_item\", \"numbered_list_item\"]:\n",
    "            # These block types have a similar structure\n",
    "            rich_text = block.get(block_type, {}).get(\"rich_text\", [])\n",
    "            formatted_block[\"text\"] = \"\".join([text.get(\"plain_text\", \"\") for text in rich_text])\n",
    "        \n",
    "        elif block_type == \"code\":\n",
    "            rich_text = block.get(\"code\", {}).get(\"rich_text\", [])\n",
    "            formatted_block[\"text\"] = \"\".join([text.get(\"plain_text\", \"\") for text in rich_text])\n",
    "            formatted_block[\"language\"] = block.get(\"code\", {}).get(\"language\")\n",
    "        \n",
    "        # Add more block types as needed\n",
    "        \n",
    "        formatted_blocks.append(formatted_block)\n",
    "    \n",
    "    return {\n",
    "        \"id\": page.get(\"id\"),\n",
    "        \"created_time\": page.get(\"created_time\"),\n",
    "        \"last_edited_time\": page.get(\"last_edited_time\"),\n",
    "        \"title\": title,\n",
    "        \"content\": formatted_blocks\n",
    "    }"
   ]
  },
  {
   "cell_type": "code",
   "execution_count": 11,
   "id": "60638db5",
   "metadata": {},
   "outputs": [
    {
     "name": "stderr",
     "output_type": "stream",
     "text": [
      "WARNING:notion_mcp_readonly:No .env file found at /Users/apple/Documents/GitHub/CMB-Agent/.env, using environment variables\n"
     ]
    },
    {
     "name": "stdout",
     "output_type": "stream",
     "text": [
      "Reading Notion page with ID: 160ab8e5212680239210c6501484cd90\n",
      "Page title: Interesting papers\n",
      "Found 100 content blocks\n",
      "Full content saved to notion_page_content.json\n",
      "\n",
      "Preview of content:\n",
      "\n",
      "Retrieval-Augmented Generation for Knowledge-Intensive NLP Tasks\n",
      "Here's how RAG works:\n",
      "Document Processing: Your documents are processed and converted into embeddings (vector representati\n",
      "Storage: These embeddings are stored in a vector database or similar storage system\n"
     ]
    }
   ],
   "source": [
    "result = await read_notion_page()"
   ]
  }
 ],
 "metadata": {
  "kernelspec": {
   "display_name": "cmb-agent",
   "language": "python",
   "name": "python3"
  },
  "language_info": {
   "codemirror_mode": {
    "name": "ipython",
    "version": 3
   },
   "file_extension": ".py",
   "mimetype": "text/x-python",
   "name": "python",
   "nbconvert_exporter": "python",
   "pygments_lexer": "ipython3",
   "version": "3.10.17"
  }
 },
 "nbformat": 4,
 "nbformat_minor": 5
}
