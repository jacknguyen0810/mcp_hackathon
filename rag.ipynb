{
 "cells": [
  {
   "cell_type": "code",
   "execution_count": 1,
   "id": "c864a076",
   "metadata": {},
   "outputs": [
    {
     "name": "stderr",
     "output_type": "stream",
     "text": [
      "/Users/apple/opt/anaconda3/envs/cmb-agent/lib/python3.10/site-packages/tqdm/auto.py:21: TqdmWarning: IProgress not found. Please update jupyter and ipywidgets. See https://ipywidgets.readthedocs.io/en/stable/user_install.html\n",
      "  from .autonotebook import tqdm as notebook_tqdm\n"
     ]
    }
   ],
   "source": [
    "from pathlib import Path\n",
    "\n",
    "from mcp import ClientSession, StdioServerParameters\n",
    "from mcp.client.sse import sse_client\n",
    "from mcp.client.stdio import stdio_client\n",
    "\n",
    "from autogen import LLMConfig\n",
    "from autogen.agentchat import AssistantAgent\n",
    "from autogen.mcp import create_toolkit\n",
    "import json\n",
    "import anyio\n",
    "import asyncio\n",
    "\n",
    "# Only needed for Jupyter notebooks\n",
    "import nest_asyncio\n",
    "nest_asyncio.apply()\n",
    "\n",
    "from autogen.agentchat.group import (\n",
    "    AgentNameTarget,\n",
    "    AgentTarget,\n",
    "    AskUserTarget,\n",
    "    ContextExpression,\n",
    "    ContextStr,\n",
    "    ContextStrLLMCondition,\n",
    "    ContextVariables,\n",
    "    ExpressionAvailableCondition,\n",
    "    ExpressionContextCondition,\n",
    "    GroupChatConfig,\n",
    "    GroupChatTarget,\n",
    "    Handoffs,\n",
    "    NestedChatTarget,\n",
    "    OnCondition,\n",
    "    OnContextCondition,\n",
    "    ReplyResult,\n",
    "    RevertToUserTarget,\n",
    "    SpeakerSelectionResult,\n",
    "    StayTarget,\n",
    "    StringAvailableCondition,\n",
    "    StringContextCondition,\n",
    "    StringLLMCondition,\n",
    "    TerminateTarget,\n",
    ")\n",
    "\n",
    "from autogen.agentchat.group.patterns import (\n",
    "    DefaultPattern,\n",
    "    ManualPattern,\n",
    "    AutoPattern,\n",
    "    RandomPattern,\n",
    "    RoundRobinPattern,\n",
    ")\n",
    "\n",
    "\n",
    "from autogen import ConversableAgent, UpdateSystemMessage\n",
    "from autogen.agents.experimental import DocAgent\n",
    "import os\n",
    "import copy\n",
    "from typing import Any, Dict, List\n",
    "from pydantic import BaseModel, Field\n",
    "\n",
    "\n",
    "from autogen.agentchat import initiate_group_chat, a_initiate_group_chat"
   ]
  },
  {
   "cell_type": "code",
   "execution_count": 2,
   "id": "49fa22df",
   "metadata": {},
   "outputs": [
    {
     "name": "stdout",
     "output_type": "stream",
     "text": [
      "Current working directory: /Users/apple/Documents/GitHub/CMB-Agent/mcp_hackathon\n"
     ]
    }
   ],
   "source": [
    "#check the current file path\n",
    "print(\"Current working directory:\", os.getcwd())\n",
    "#change to the directory where the source located\n",
    "\n"
   ]
  },
  {
   "cell_type": "markdown",
   "id": "c35d3a02",
   "metadata": {},
   "source": [
    "# Load From Notion"
   ]
  },
  {
   "cell_type": "code",
   "execution_count": 3,
   "id": "e948aae4",
   "metadata": {},
   "outputs": [],
   "source": [
    "# Path to the arxiv MCP server\n",
    "mcp_server_path = Path(\"src/mcp_notion.py\")"
   ]
  },
  {
   "cell_type": "code",
   "execution_count": 4,
   "id": "be194302",
   "metadata": {},
   "outputs": [],
   "source": [
    "from google_auth_oauthlib.flow import InstalledAppFlow\n",
    "import json"
   ]
  },
  {
   "cell_type": "code",
   "execution_count": 5,
   "id": "7707b24e",
   "metadata": {},
   "outputs": [],
   "source": [
    "from dotenv import load_dotenv\n",
    "\n",
    "# Load environment variables from .env file\n",
    "load_dotenv()\n",
    "\n",
    "import os\n",
    "\n",
    "# Access tokens\n",
    "NOTION_TOKEN = os.getenv(\"NOTION_TOKEN\")\n",
    "OPENAI_API_KEY = os.getenv(\"OPENAI_API_KEY\")"
   ]
  },
  {
   "cell_type": "code",
   "execution_count": 7,
   "id": "9939b2b5",
   "metadata": {},
   "outputs": [],
   "source": [
    "from src.mcp_notion import NotionReader"
   ]
  },
  {
   "cell_type": "code",
   "execution_count": 8,
   "id": "b205ad2f",
   "metadata": {},
   "outputs": [],
   "source": [
    "# Set up the Notion MCP server\n",
    "notion_server_path = Path(\"mcp_notion.py\")"
   ]
  },
  {
   "cell_type": "code",
   "execution_count": 9,
   "id": "b2ebc9c3",
   "metadata": {},
   "outputs": [],
   "source": [
    "from mcp import ClientSession, StdioServerParameters\n",
    "from mcp.client.sse import sse_client\n",
    "from mcp.client.stdio import stdio_client\n"
   ]
  },
  {
   "cell_type": "code",
   "execution_count": 10,
   "id": "501d7d76",
   "metadata": {},
   "outputs": [],
   "source": [
    "PAGE_ID = \"160ab8e5212680239210c6501484cd90\""
   ]
  },
  {
   "cell_type": "code",
   "execution_count": 12,
   "id": "ce230b24",
   "metadata": {},
   "outputs": [],
   "source": [
    "async def read_notion_page():\n",
    "    \"\"\"Read content from a specific Notion page using the NotionReader.\"\"\"\n",
    "    try:\n",
    "        # Create a NotionReader instance\n",
    "        reader = NotionReader()\n",
    "        \n",
    "        print(f\"Reading Notion page with ID: {PAGE_ID}\")\n",
    "        \n",
    "        # Use the reader as a context manager to ensure proper cleanup\n",
    "        async with reader:\n",
    "            # Get page content\n",
    "            page = await reader.get_page(PAGE_ID)\n",
    "            \n",
    "            # Get page blocks\n",
    "            blocks_response = await reader.get_block_children(PAGE_ID)\n",
    "            blocks = blocks_response.get(\"results\", [])\n",
    "            \n",
    "            # Format the results for easier consumption\n",
    "            formatted_result = format_page_content(page, blocks)\n",
    "            \n",
    "            # Print a summary of what we found\n",
    "            print(f\"Page title: {formatted_result.get('title', 'Untitled')}\")\n",
    "            print(f\"Found {len(formatted_result.get('content', []))} content blocks\")\n",
    "            \n",
    "            # Save the full content to a JSON file for inspection\n",
    "            with open(\"notion_page_content.json\", \"w\") as f:\n",
    "                json.dump(formatted_result, f, indent=2)\n",
    "            print(\"Full content saved to notion_page_content.json\")\n",
    "            \n",
    "            # Also print the first few blocks\n",
    "            print(\"\\nPreview of content:\")\n",
    "            for i, block in enumerate(formatted_result.get('content', [])[:5]):  # First 5 blocks\n",
    "                block_text = block.get('text', '')[:100]  # First 100 chars\n",
    "                print(f\"{i+1}. [{block.get('type')}]: {block_text}...\" if len(block_text) > 100 else block_text)\n",
    "            \n",
    "            return formatted_result\n",
    "            \n",
    "    except Exception as e:\n",
    "        print(f\"Error reading Notion page: {str(e)}\")\n",
    "        raise\n"
   ]
  },
  {
   "cell_type": "code",
   "execution_count": 13,
   "id": "ebafedde",
   "metadata": {},
   "outputs": [],
   "source": [
    "def format_page_content(page, blocks):\n",
    "    \"\"\"Format page and blocks into a more user-friendly structure.\"\"\"\n",
    "    # Extract title if available\n",
    "    title = \"\"\n",
    "    for prop_name, prop_value in page.get(\"properties\", {}).items():\n",
    "        if prop_value.get(\"type\") == \"title\" and prop_value.get(\"title\"):\n",
    "            title = \"\".join([text.get(\"plain_text\", \"\") for text in prop_value.get(\"title\", [])])\n",
    "            break\n",
    "    \n",
    "    # Format blocks\n",
    "    formatted_blocks = []\n",
    "    for block in blocks:\n",
    "        block_type = block.get(\"type\")\n",
    "        \n",
    "        # Default structure for a formatted block\n",
    "        formatted_block = {\n",
    "            \"id\": block.get(\"id\"),\n",
    "            \"type\": block_type,\n",
    "            \"text\": \"\"\n",
    "        }\n",
    "        \n",
    "        # Extract text based on block type\n",
    "        if block_type in [\"paragraph\", \"heading_1\", \"heading_2\", \"heading_3\", \n",
    "                         \"bulleted_list_item\", \"numbered_list_item\"]:\n",
    "            # These block types have a similar structure\n",
    "            rich_text = block.get(block_type, {}).get(\"rich_text\", [])\n",
    "            formatted_block[\"text\"] = \"\".join([text.get(\"plain_text\", \"\") for text in rich_text])\n",
    "        \n",
    "        elif block_type == \"code\":\n",
    "            rich_text = block.get(\"code\", {}).get(\"rich_text\", [])\n",
    "            formatted_block[\"text\"] = \"\".join([text.get(\"plain_text\", \"\") for text in rich_text])\n",
    "            formatted_block[\"language\"] = block.get(\"code\", {}).get(\"language\")\n",
    "        \n",
    "        # Add more block types as needed\n",
    "        \n",
    "        formatted_blocks.append(formatted_block)\n",
    "    \n",
    "    return {\n",
    "        \"id\": page.get(\"id\"),\n",
    "        \"created_time\": page.get(\"created_time\"),\n",
    "        \"last_edited_time\": page.get(\"last_edited_time\"),\n",
    "        \"title\": title,\n",
    "        \"content\": formatted_blocks\n",
    "    }"
   ]
  },
  {
   "cell_type": "code",
   "execution_count": 14,
   "id": "60638db5",
   "metadata": {},
   "outputs": [
    {
     "name": "stdout",
     "output_type": "stream",
     "text": [
      "Reading Notion page with ID: 160ab8e5212680239210c6501484cd90\n",
      "Page title: Interesting papers\n",
      "Found 100 content blocks\n",
      "Full content saved to notion_page_content.json\n",
      "\n",
      "Preview of content:\n",
      "\n",
      "Retrieval-Augmented Generation for Knowledge-Intensive NLP Tasks\n",
      "Here's how RAG works:\n",
      "Document Processing: Your documents are processed and converted into embeddings (vector representati\n",
      "Storage: These embeddings are stored in a vector database or similar storage system\n"
     ]
    }
   ],
   "source": [
    "result = await read_notion_page()"
   ]
  },
  {
   "cell_type": "markdown",
   "id": "f4fed21f",
   "metadata": {},
   "source": [
    "# Start the Agent"
   ]
  },
  {
   "cell_type": "code",
   "execution_count": 17,
   "id": "6ba2feee",
   "metadata": {},
   "outputs": [],
   "source": [
    "import json\n",
    "import os\n",
    "from typing import Dict, List, Any\n",
    "from pathlib import Path\n",
    "\n",
    "import autogen\n",
    "from autogen import LLMConfig\n",
    "from autogen.agentchat import AssistantAgent, UserProxyAgent\n",
    "from autogen.agentchat.group import (\n",
    "    GroupChatConfig,\n",
    "    NestedChatTarget,\n",
    "    Handoffs,\n",
    ")\n",
    "from autogen.agentchat.groupchat import GroupChat, GroupChatManager\n",
    "from autogen.agentchat.group.patterns import AutoPattern, DefaultPattern\n",
    "\n",
    "# For Jupyter notebooks\n",
    "import nest_asyncio\n",
    "nest_asyncio.apply()\n"
   ]
  },
  {
   "cell_type": "code",
   "execution_count": 19,
   "id": "3f77a4ab",
   "metadata": {},
   "outputs": [],
   "source": [
    "\n",
    "nest_asyncio.apply()\n",
    "\n",
    "\n",
    "config_list = [\n",
    "    {\n",
    "        \"model\": \"gpt-4o-mini\",\n",
    "        \"api_key\": os.environ.get(\"OPENAI_API_KEY\")\n",
    "    }\n",
    "]\n"
   ]
  },
  {
   "cell_type": "code",
   "execution_count": 20,
   "id": "42b3878f",
   "metadata": {},
   "outputs": [],
   "source": [
    "llm_config = LLMConfig(\n",
    "    config_list=config_list,\n",
    "    timeout=120,\n",
    "    cache_seed=42\n",
    ")"
   ]
  },
  {
   "cell_type": "code",
   "execution_count": 21,
   "id": "37108d7c",
   "metadata": {},
   "outputs": [],
   "source": [
    "def load_notion_content(file_path: str) -> Dict[str, Any]:\n",
    "    \"\"\"Load the Notion page content from JSON file.\"\"\"\n",
    "    with open(file_path, 'r') as f:\n",
    "        data = json.load(f)\n",
    "    return data\n"
   ]
  },
  {
   "cell_type": "code",
   "execution_count": 22,
   "id": "112e8d31",
   "metadata": {},
   "outputs": [],
   "source": [
    "from autogen.agentchat.group.patterns import AutoPattern\n",
    "from autogen.agentchat.group import Handoffs"
   ]
  },
  {
   "cell_type": "code",
   "execution_count": 23,
   "id": "b783cfbd",
   "metadata": {},
   "outputs": [],
   "source": [
    "\n",
    "def create_notion_agents():\n",
    "    \"\"\"Create specialized agents for different aspects of the Notion content.\"\"\"\n",
    "    \n",
    "    # Reader Agent - Identifies structure and papers\n",
    "    reader_agent = AssistantAgent(\n",
    "        name=\"Reader\",\n",
    "        llm_config=llm_config,\n",
    "        system_message=\"\"\"You are the Reader Agent. Your role is to:\n",
    "1. Read and parse the Notion page content\n",
    "2. Identify the different research papers in the content\n",
    "3. Organize the content into logical sections by paper\n",
    "4. Report the structure clearly to the Analyzer\n",
    "Always start your response with \"@Analyzer\" to ensure direct communication.\n",
    "\"\"\"\n",
    "    )\n",
    "    \n",
    "    # Analyzer Agent - Extracts key information from each paper\n",
    "    analyzer_agent = AssistantAgent(\n",
    "        name=\"Analyzer\",\n",
    "        llm_config=llm_config,\n",
    "        system_message=\"\"\"You are the Analyzer Agent. Your role is to:\n",
    "1. Analyze each research paper identified by the Reader\n",
    "2. Extract key contributions, methodologies, and findings\n",
    "3. Identify connections between different papers\n",
    "4. Highlight important technical concepts\n",
    "Always start your response with \"@Summarizer\" to ensure direct communication.\n",
    "\"\"\"\n",
    "    )\n",
    "    \n",
    "    # Summarizer Agent - Creates concise summaries \n",
    "    summarizer_agent = AssistantAgent(\n",
    "        name=\"Summarizer\",\n",
    "        llm_config=llm_config,\n",
    "        system_message=\"\"\"You are the Summarizer Agent. Your role is to:\n",
    "1. Create concise summaries of each research paper\n",
    "2. Highlight the most important innovations and findings\n",
    "3. Connect related concepts across papers\n",
    "4. Produce a final integrated summary\n",
    "Always start your response with \"@Editor\" to ensure direct communication.\n",
    "\"\"\"\n",
    "    )\n",
    "    \n",
    "    # Editor Agent - Polishes the final output\n",
    "    editor_agent = AssistantAgent(\n",
    "        name=\"Editor\",\n",
    "        llm_config=llm_config,\n",
    "        system_message=\"\"\"You are the Editor Agent. Your role is to:\n",
    "1. Review the content produced by the Summarizer\n",
    "2. Improve clarity, organization, and flow\n",
    "3. Correct any errors or inconsistencies\n",
    "4. Format the final output in a professional, readable manner\n",
    "5. Ensure the summary is complete and captures all key points\n",
    "Your output is the final product that will be presented to the user.\n",
    "\"\"\"\n",
    "    )\n",
    "    \n",
    "    # User Proxy - Initiates the task\n",
    "    user_proxy = UserProxyAgent(\n",
    "        name=\"User\",\n",
    "        code_execution_config={\"work_dir\": \".\", \"use_docker\": False},\n",
    "        human_input_mode=\"NEVER\"\n",
    "    )\n",
    "    \n",
    "    return user_proxy, reader_agent, analyzer_agent, summarizer_agent, editor_agent\n"
   ]
  },
  {
   "cell_type": "code",
   "execution_count": 25,
   "id": "6eb665f3",
   "metadata": {},
   "outputs": [],
   "source": [
    "def format_notion_content(notion_data):\n",
    "    \"\"\"Format the Notion content for easier consumption by agents.\"\"\"\n",
    "    page_title = notion_data.get('title', 'Untitled Page')\n",
    "    content_blocks = notion_data.get('content', [])\n",
    "    \n",
    "    formatted_texts = []\n",
    "    \n",
    "    # Process each block based on its type\n",
    "    for block in content_blocks:\n",
    "        block_type = block.get('type', '')\n",
    "        block_text = block.get('text', '')\n",
    "        \n",
    "        if not block_text.strip():\n",
    "            continue\n",
    "            \n",
    "        if block_type.startswith('heading_'):\n",
    "            level = block_type[-1]\n",
    "            prefix = '#' * int(level)\n",
    "            formatted_texts.append(f\"{prefix} {block_text}\")\n",
    "        elif block_type == 'bulleted_list_item':\n",
    "            formatted_texts.append(f\"* {block_text}\")\n",
    "        elif block_type == 'numbered_list_item':\n",
    "            formatted_texts.append(f\"- {block_text}\")\n",
    "        else:\n",
    "            formatted_texts.append(block_text)\n",
    "    \n",
    "    return {\n",
    "        \"title\": page_title,\n",
    "        \"formatted_content\": \"\\n\\n\".join(formatted_texts)\n",
    "    }"
   ]
  },
  {
   "cell_type": "code",
   "execution_count": 28,
   "id": "1ec71e82",
   "metadata": {},
   "outputs": [],
   "source": [
    "def run_notion_summarization(file_path):\n",
    "    \"\"\"Main function to run the notion summarization pipeline.\"\"\"\n",
    "    \n",
    "    # Load and format notion content\n",
    "    notion_data = load_notion_content(file_path)\n",
    "    formatted_data = format_notion_content(notion_data)\n",
    "    \n",
    "    # Create agents\n",
    "    user_proxy, reader_agent, analyzer_agent, summarizer_agent, editor_agent = create_notion_agents()\n",
    "    \n",
    "    # Set up the group chat\n",
    "    group_chat = GroupChat(\n",
    "        agents=[user_proxy, reader_agent, analyzer_agent, summarizer_agent, editor_agent],\n",
    "        messages=[],\n",
    "        max_round=15\n",
    "    )\n",
    "    \n",
    "    # Configure the chat manager with direct handoffs\n",
    "    manager = GroupChatManager(\n",
    "        groupchat=group_chat,\n",
    "        llm_config=llm_config,\n",
    "        pattern=AutoPattern(\n",
    "            starter=user_proxy,\n",
    "            handoffs=Handoffs(mapping={\n",
    "                \"User\": \"Reader\",\n",
    "                \"Reader\": \"Analyzer\",\n",
    "                \"Analyzer\": \"Summarizer\",\n",
    "                \"Summarizer\": \"Editor\",\n",
    "                \"Editor\": \"User\"  # Back to user with final result\n",
    "            })\n",
    "        )\n",
    "    )\n",
    "    \n",
    "    # Create the initial prompt\n",
    "    prompt = f\"\"\"I need a comprehensive summary of the research papers in this Notion page titled \"{formatted_data['title']}\".\n",
    "\n",
    "Here is the content:\n",
    "\n",
    "{formatted_data['formatted_content']}\n",
    "\n",
    "Please analyze each paper, extract key findings and innovations, and create a well-structured summary that connects related concepts across papers.\n",
    "\"\"\"\n",
    "    \n",
    "    # Run the group chat\n",
    "    result = manager.groupchat.run(prompt)\n",
    "    \n",
    "    # Save the result\n",
    "    with open(\"notion_summary_result.md\", \"w\") as f:\n",
    "        f.write(result)\n",
    "    \n",
    "    return result"
   ]
  },
  {
   "cell_type": "code",
   "execution_count": 29,
   "id": "c1fb153f",
   "metadata": {},
   "outputs": [
    {
     "ename": "TypeError",
     "evalue": "AutoPattern.__init__() got an unexpected keyword argument 'starter'",
     "output_type": "error",
     "traceback": [
      "\u001b[0;31m---------------------------------------------------------------------------\u001b[0m",
      "\u001b[0;31mTypeError\u001b[0m                                 Traceback (most recent call last)",
      "Cell \u001b[0;32mIn[29], line 2\u001b[0m\n\u001b[1;32m      1\u001b[0m file_path \u001b[38;5;241m=\u001b[39m \u001b[38;5;124m\"\u001b[39m\u001b[38;5;124mdata/notion_page_content.json\u001b[39m\u001b[38;5;124m\"\u001b[39m\n\u001b[0;32m----> 2\u001b[0m summary \u001b[38;5;241m=\u001b[39m \u001b[43mrun_notion_summarization\u001b[49m\u001b[43m(\u001b[49m\u001b[43mfile_path\u001b[49m\u001b[43m)\u001b[49m\n\u001b[1;32m      3\u001b[0m \u001b[38;5;28mprint\u001b[39m(\u001b[38;5;124m\"\u001b[39m\u001b[38;5;124mSummary completed and saved to notion_summary_result.md\u001b[39m\u001b[38;5;124m\"\u001b[39m)\n",
      "Cell \u001b[0;32mIn[28], line 22\u001b[0m, in \u001b[0;36mrun_notion_summarization\u001b[0;34m(file_path)\u001b[0m\n\u001b[1;32m     12\u001b[0m     group_chat \u001b[38;5;241m=\u001b[39m GroupChat(\n\u001b[1;32m     13\u001b[0m         agents\u001b[38;5;241m=\u001b[39m[user_proxy, reader_agent, analyzer_agent, summarizer_agent, editor_agent],\n\u001b[1;32m     14\u001b[0m         messages\u001b[38;5;241m=\u001b[39m[],\n\u001b[1;32m     15\u001b[0m         max_round\u001b[38;5;241m=\u001b[39m\u001b[38;5;241m15\u001b[39m\n\u001b[1;32m     16\u001b[0m     )\n\u001b[1;32m     18\u001b[0m     \u001b[38;5;66;03m# Configure the chat manager with direct handoffs\u001b[39;00m\n\u001b[1;32m     19\u001b[0m     manager \u001b[38;5;241m=\u001b[39m GroupChatManager(\n\u001b[1;32m     20\u001b[0m         groupchat\u001b[38;5;241m=\u001b[39mgroup_chat,\n\u001b[1;32m     21\u001b[0m         llm_config\u001b[38;5;241m=\u001b[39mllm_config,\n\u001b[0;32m---> 22\u001b[0m         pattern\u001b[38;5;241m=\u001b[39m\u001b[43mAutoPattern\u001b[49m\u001b[43m(\u001b[49m\n\u001b[1;32m     23\u001b[0m \u001b[43m            \u001b[49m\u001b[43mstarter\u001b[49m\u001b[38;5;241;43m=\u001b[39;49m\u001b[43muser_proxy\u001b[49m\u001b[43m,\u001b[49m\n\u001b[1;32m     24\u001b[0m \u001b[43m            \u001b[49m\u001b[43mhandoffs\u001b[49m\u001b[38;5;241;43m=\u001b[39;49m\u001b[43mHandoffs\u001b[49m\u001b[43m(\u001b[49m\u001b[43mmapping\u001b[49m\u001b[38;5;241;43m=\u001b[39;49m\u001b[43m{\u001b[49m\n\u001b[1;32m     25\u001b[0m \u001b[43m                \u001b[49m\u001b[38;5;124;43m\"\u001b[39;49m\u001b[38;5;124;43mUser\u001b[39;49m\u001b[38;5;124;43m\"\u001b[39;49m\u001b[43m:\u001b[49m\u001b[43m \u001b[49m\u001b[38;5;124;43m\"\u001b[39;49m\u001b[38;5;124;43mReader\u001b[39;49m\u001b[38;5;124;43m\"\u001b[39;49m\u001b[43m,\u001b[49m\n\u001b[1;32m     26\u001b[0m \u001b[43m                \u001b[49m\u001b[38;5;124;43m\"\u001b[39;49m\u001b[38;5;124;43mReader\u001b[39;49m\u001b[38;5;124;43m\"\u001b[39;49m\u001b[43m:\u001b[49m\u001b[43m \u001b[49m\u001b[38;5;124;43m\"\u001b[39;49m\u001b[38;5;124;43mAnalyzer\u001b[39;49m\u001b[38;5;124;43m\"\u001b[39;49m\u001b[43m,\u001b[49m\n\u001b[1;32m     27\u001b[0m \u001b[43m                \u001b[49m\u001b[38;5;124;43m\"\u001b[39;49m\u001b[38;5;124;43mAnalyzer\u001b[39;49m\u001b[38;5;124;43m\"\u001b[39;49m\u001b[43m:\u001b[49m\u001b[43m \u001b[49m\u001b[38;5;124;43m\"\u001b[39;49m\u001b[38;5;124;43mSummarizer\u001b[39;49m\u001b[38;5;124;43m\"\u001b[39;49m\u001b[43m,\u001b[49m\n\u001b[1;32m     28\u001b[0m \u001b[43m                \u001b[49m\u001b[38;5;124;43m\"\u001b[39;49m\u001b[38;5;124;43mSummarizer\u001b[39;49m\u001b[38;5;124;43m\"\u001b[39;49m\u001b[43m:\u001b[49m\u001b[43m \u001b[49m\u001b[38;5;124;43m\"\u001b[39;49m\u001b[38;5;124;43mEditor\u001b[39;49m\u001b[38;5;124;43m\"\u001b[39;49m\u001b[43m,\u001b[49m\n\u001b[1;32m     29\u001b[0m \u001b[43m                \u001b[49m\u001b[38;5;124;43m\"\u001b[39;49m\u001b[38;5;124;43mEditor\u001b[39;49m\u001b[38;5;124;43m\"\u001b[39;49m\u001b[43m:\u001b[49m\u001b[43m \u001b[49m\u001b[38;5;124;43m\"\u001b[39;49m\u001b[38;5;124;43mUser\u001b[39;49m\u001b[38;5;124;43m\"\u001b[39;49m\u001b[43m  \u001b[49m\u001b[38;5;66;43;03m# Back to user with final result\u001b[39;49;00m\n\u001b[1;32m     30\u001b[0m \u001b[43m            \u001b[49m\u001b[43m}\u001b[49m\u001b[43m)\u001b[49m\n\u001b[1;32m     31\u001b[0m \u001b[43m        \u001b[49m\u001b[43m)\u001b[49m\n\u001b[1;32m     32\u001b[0m     )\n\u001b[1;32m     34\u001b[0m     \u001b[38;5;66;03m# Create the initial prompt\u001b[39;00m\n\u001b[1;32m     35\u001b[0m     prompt \u001b[38;5;241m=\u001b[39m \u001b[38;5;124mf\u001b[39m\u001b[38;5;124m\"\"\"\u001b[39m\u001b[38;5;124mI need a comprehensive summary of the research papers in this Notion page titled \u001b[39m\u001b[38;5;124m\"\u001b[39m\u001b[38;5;132;01m{\u001b[39;00mformatted_data[\u001b[38;5;124m'\u001b[39m\u001b[38;5;124mtitle\u001b[39m\u001b[38;5;124m'\u001b[39m]\u001b[38;5;132;01m}\u001b[39;00m\u001b[38;5;124m\"\u001b[39m\u001b[38;5;124m.\u001b[39m\n\u001b[1;32m     36\u001b[0m \n\u001b[1;32m     37\u001b[0m \u001b[38;5;124mHere is the content:\u001b[39m\n\u001b[0;32m   (...)\u001b[0m\n\u001b[1;32m     41\u001b[0m \u001b[38;5;124mPlease analyze each paper, extract key findings and innovations, and create a well-structured summary that connects related concepts across papers.\u001b[39m\n\u001b[1;32m     42\u001b[0m \u001b[38;5;124m\"\"\"\u001b[39m\n",
      "\u001b[0;31mTypeError\u001b[0m: AutoPattern.__init__() got an unexpected keyword argument 'starter'"
     ]
    }
   ],
   "source": [
    "file_path = \"data/notion_page_content.json\"\n",
    "summary = run_notion_summarization(file_path)\n",
    "print(\"Summary completed and saved to notion_summary_result.md\")"
   ]
  }
 ],
 "metadata": {
  "kernelspec": {
   "display_name": "cmb-agent",
   "language": "python",
   "name": "python3"
  },
  "language_info": {
   "codemirror_mode": {
    "name": "ipython",
    "version": 3
   },
   "file_extension": ".py",
   "mimetype": "text/x-python",
   "name": "python",
   "nbconvert_exporter": "python",
   "pygments_lexer": "ipython3",
   "version": "3.10.17"
  }
 },
 "nbformat": 4,
 "nbformat_minor": 5
}
